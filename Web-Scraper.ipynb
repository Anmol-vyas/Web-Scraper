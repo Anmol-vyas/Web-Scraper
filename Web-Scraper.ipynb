{
 "cells": [
  {
   "cell_type": "code",
   "execution_count": 1,
   "metadata": {},
   "outputs": [],
   "source": [
    "import bs4"
   ]
  },
  {
   "cell_type": "code",
   "execution_count": 2,
   "metadata": {},
   "outputs": [],
   "source": [
    "from urllib.request import urlopen as uReq"
   ]
  },
  {
   "cell_type": "code",
   "execution_count": 3,
   "metadata": {},
   "outputs": [],
   "source": [
    "from bs4 import BeautifulSoup"
   ]
  },
  {
   "cell_type": "code",
   "execution_count": 4,
   "metadata": {},
   "outputs": [],
   "source": [
    "my_url = 'https://www.newegg.com/Video-Cards-Video-Devices/Category/ID-38?Tpk=graphics+card'"
   ]
  },
  {
   "cell_type": "code",
   "execution_count": 5,
   "metadata": {},
   "outputs": [],
   "source": [
    "uClient=uReq(my_url)"
   ]
  },
  {
   "cell_type": "code",
   "execution_count": 6,
   "metadata": {},
   "outputs": [],
   "source": [
    "page_html = uClient.read()"
   ]
  },
  {
   "cell_type": "code",
   "execution_count": 7,
   "metadata": {},
   "outputs": [],
   "source": [
    "uClient.close()"
   ]
  },
  {
   "cell_type": "code",
   "execution_count": 12,
   "metadata": {},
   "outputs": [],
   "source": [
    "page_soup = BeautifulSoup(page_html , \"html.parser\")"
   ]
  },
  {
   "cell_type": "code",
   "execution_count": 13,
   "metadata": {},
   "outputs": [
    {
     "data": {
      "text/plain": [
       "<h1 class=\"page-title-text\">Video Cards &amp; Video Devices</h1>"
      ]
     },
     "execution_count": 13,
     "metadata": {},
     "output_type": "execute_result"
    }
   ],
   "source": [
    "page_soup.h1"
   ]
  },
  {
   "cell_type": "code",
   "execution_count": 14,
   "metadata": {},
   "outputs": [],
   "source": [
    "containers = page_soup.findAll(\"div\",{\"class\": \"item-container\"})"
   ]
  },
  {
   "cell_type": "code",
   "execution_count": 15,
   "metadata": {},
   "outputs": [
    {
     "data": {
      "text/plain": [
       "12"
      ]
     },
     "execution_count": 15,
     "metadata": {},
     "output_type": "execute_result"
    }
   ],
   "source": [
    "len(containers)"
   ]
  },
  {
   "cell_type": "code",
   "execution_count": 16,
   "metadata": {
    "scrolled": false
   },
   "outputs": [
    {
     "data": {
      "text/plain": [
       "<div class=\"item-container\"><a class=\"item-img\" href=\"https://www.newegg.com/gigabyte-geforce-rtx-2070-gv-n2070wf2-8gd/p/N82E16814932160?Item=N82E16814932160\"><img alt=\"GIGABYTE GeForce RTX 2070 DirectX 12 GV-N2070WF2-8GD 8GB 256-Bit GDDR6 PCI Express 3.0 x16 ATX Video Card\" src=\"https://c1.neweggimages.com/ProductImageCompressAll300/14-932-160-V01.jpg\" title=\"GIGABYTE GeForce RTX 2070 DirectX 12 GV-N2070WF2-8GD 8GB 256-Bit GDDR6 PCI Express 3.0 x16 ATX Video Card\"/></a><div class=\"item-info\"><div class=\"item-branding\"><a class=\"item-brand\" href=\"https://www.newegg.com/GIGABYTE/BrandStore/ID-1314\"><img alt=\"GIGABYTE\" src=\"https://c1.neweggimages.com/Brandimage_70x28/Brand1314.gif\" title=\"GIGABYTE\"/></a><a class=\"item-rating\" href=\"https://www.newegg.com/gigabyte-geforce-rtx-2070-gv-n2070wf2-8gd/p/N82E16814932160?Item=N82E16814932160&amp;IsFeedbackTab=true#scrollFullInfo\" title=\"Rating + 4\"><i class=\"rating rating-4\"></i><span class=\"item-rating-num\">(110)</span></a></div><a class=\"item-title\" href=\"https://www.newegg.com/gigabyte-geforce-rtx-2070-gv-n2070wf2-8gd/p/N82E16814932160?Item=N82E16814932160\" title=\"View Details\">GIGABYTE GeForce RTX 2070 DirectX 12 GV-N2070WF2-8GD Video Card</a><p class=\"item-promo\"><i class=\"item-promo-icon\"></i>Get Tom Clancy’s Rainbow Six Siege Gold Edition w/ purchase, limited offer</p><ul class=\"item-features\"><li><strong>Core Clock:</strong> 1620 MHz</li><li><strong>Max Resolution:</strong> 7680 x 4320 @ 60 Hz</li><li><strong>DisplayPort:</strong> 3 x DisplayPort 1.4</li><li><strong>HDMI:</strong> 1 x HDMI 2.0b</li><li><strong>Model #: </strong>GV-N2070WF2-8GD</li><li><strong>Item #: </strong>N82E16814932160</li><li><strong>Return Policy: </strong><a href=\"https://kb.newegg.com/Article/Index/12/3?id=1167#44\" target=\"_blank\" title=\"Standard Return Policy(New Window)\">Standard Return Policy</a></li></ul></div><div class=\"item-action\"><ul class=\"price\"><li class=\"price-was\"></li><li class=\"price-map\"> </li><li class=\"price-current\"><span class=\"price-current-label\"></span>$<strong>399</strong><sup>.99</sup> <span class=\"price-current-range\"><abbr title=\"to\">–</abbr></span></li><li class=\"price-save\"></li><li class=\"price-note\"></li><li class=\"price-ship\">Free Shipping</li></ul><div class=\"item-operate hidden-action-button\"><div class=\"item-button-area\"><button class=\"btn btn-mini\" title=\"View Details \">View Details <i class=\"fas fa-caret-right\"></i></button></div><div class=\"item-compare-box\"><label class=\"form-checkbox\"><input autocomplete=\"off\" type=\"checkbox\"/><span class=\"form-checkbox-title\">Compare</span></label></div><div class=\"popover left popover-compare\" style=\"position:absolute;top:0;left:0;opacity:0;pointer-events:none;display:none\"><div class=\"popover-title\">Selected Items</div><i class=\"popover-arrow compare\"></i><div class=\"popover-body\"></div><div class=\"popover-btn-area\"><div class=\"popover-compare-btn-normal\"><button class=\"btn btn-mini btn-tertiary\">EDIT</button><button class=\"btn btn-mini btn-secondary\">COMPARE</button></div></div></div></div></div><div class=\"item-stock\" id=\"stock_14-932-160\"></div></div>"
      ]
     },
     "execution_count": 16,
     "metadata": {},
     "output_type": "execute_result"
    }
   ],
   "source": [
    "containers[0]"
   ]
  },
  {
   "cell_type": "code",
   "execution_count": 17,
   "metadata": {},
   "outputs": [],
   "source": [
    "container = containers[0]"
   ]
  },
  {
   "cell_type": "code",
   "execution_count": 19,
   "metadata": {},
   "outputs": [
    {
     "data": {
      "text/plain": [
       "<div class=\"item-info\"><div class=\"item-branding\"><a class=\"item-brand\" href=\"https://www.newegg.com/GIGABYTE/BrandStore/ID-1314\"><img alt=\"GIGABYTE\" src=\"https://c1.neweggimages.com/Brandimage_70x28/Brand1314.gif\" title=\"GIGABYTE\"/></a><a class=\"item-rating\" href=\"https://www.newegg.com/gigabyte-geforce-rtx-2070-gv-n2070wf2-8gd/p/N82E16814932160?Item=N82E16814932160&amp;IsFeedbackTab=true#scrollFullInfo\" title=\"Rating + 4\"><i class=\"rating rating-4\"></i><span class=\"item-rating-num\">(110)</span></a></div><a class=\"item-title\" href=\"https://www.newegg.com/gigabyte-geforce-rtx-2070-gv-n2070wf2-8gd/p/N82E16814932160?Item=N82E16814932160\" title=\"View Details\">GIGABYTE GeForce RTX 2070 DirectX 12 GV-N2070WF2-8GD Video Card</a><p class=\"item-promo\"><i class=\"item-promo-icon\"></i>Get Tom Clancy’s Rainbow Six Siege Gold Edition w/ purchase, limited offer</p><ul class=\"item-features\"><li><strong>Core Clock:</strong> 1620 MHz</li><li><strong>Max Resolution:</strong> 7680 x 4320 @ 60 Hz</li><li><strong>DisplayPort:</strong> 3 x DisplayPort 1.4</li><li><strong>HDMI:</strong> 1 x HDMI 2.0b</li><li><strong>Model #: </strong>GV-N2070WF2-8GD</li><li><strong>Item #: </strong>N82E16814932160</li><li><strong>Return Policy: </strong><a href=\"https://kb.newegg.com/Article/Index/12/3?id=1167#44\" target=\"_blank\" title=\"Standard Return Policy(New Window)\">Standard Return Policy</a></li></ul></div>"
      ]
     },
     "execution_count": 19,
     "metadata": {},
     "output_type": "execute_result"
    }
   ],
   "source": [
    "container.div"
   ]
  },
  {
   "cell_type": "code",
   "execution_count": 20,
   "metadata": {},
   "outputs": [
    {
     "data": {
      "text/plain": [
       "<a class=\"item-brand\" href=\"https://www.newegg.com/GIGABYTE/BrandStore/ID-1314\"><img alt=\"GIGABYTE\" src=\"https://c1.neweggimages.com/Brandimage_70x28/Brand1314.gif\" title=\"GIGABYTE\"/></a>"
      ]
     },
     "execution_count": 20,
     "metadata": {},
     "output_type": "execute_result"
    }
   ],
   "source": [
    "container.div.div.a"
   ]
  },
  {
   "cell_type": "code",
   "execution_count": 21,
   "metadata": {},
   "outputs": [
    {
     "data": {
      "text/plain": [
       "<img alt=\"GIGABYTE\" src=\"https://c1.neweggimages.com/Brandimage_70x28/Brand1314.gif\" title=\"GIGABYTE\"/>"
      ]
     },
     "execution_count": 21,
     "metadata": {},
     "output_type": "execute_result"
    }
   ],
   "source": [
    "container.div.div.a.img"
   ]
  },
  {
   "cell_type": "code",
   "execution_count": 22,
   "metadata": {},
   "outputs": [
    {
     "data": {
      "text/plain": [
       "'GIGABYTE'"
      ]
     },
     "execution_count": 22,
     "metadata": {},
     "output_type": "execute_result"
    }
   ],
   "source": [
    "container.div.div.a.img[\"title\"]"
   ]
  },
  {
   "cell_type": "code",
   "execution_count": 24,
   "metadata": {},
   "outputs": [],
   "source": [
    "title_container = container.findAll(\"a\",{\"class\":\"item-title\"})"
   ]
  },
  {
   "cell_type": "code",
   "execution_count": 25,
   "metadata": {},
   "outputs": [
    {
     "data": {
      "text/plain": [
       "[<a class=\"item-title\" href=\"https://www.newegg.com/gigabyte-geforce-rtx-2070-gv-n2070wf2-8gd/p/N82E16814932160?Item=N82E16814932160\" title=\"View Details\">GIGABYTE GeForce RTX 2070 DirectX 12 GV-N2070WF2-8GD Video Card</a>]"
      ]
     },
     "execution_count": 25,
     "metadata": {},
     "output_type": "execute_result"
    }
   ],
   "source": [
    "title_container"
   ]
  },
  {
   "cell_type": "code",
   "execution_count": 26,
   "metadata": {},
   "outputs": [
    {
     "data": {
      "text/plain": [
       "<a class=\"item-title\" href=\"https://www.newegg.com/gigabyte-geforce-rtx-2070-gv-n2070wf2-8gd/p/N82E16814932160?Item=N82E16814932160\" title=\"View Details\">GIGABYTE GeForce RTX 2070 DirectX 12 GV-N2070WF2-8GD Video Card</a>"
      ]
     },
     "execution_count": 26,
     "metadata": {},
     "output_type": "execute_result"
    }
   ],
   "source": [
    "title_container[0]"
   ]
  },
  {
   "cell_type": "code",
   "execution_count": 27,
   "metadata": {},
   "outputs": [
    {
     "data": {
      "text/plain": [
       "'GIGABYTE GeForce RTX 2070 DirectX 12 GV-N2070WF2-8GD Video Card'"
      ]
     },
     "execution_count": 27,
     "metadata": {},
     "output_type": "execute_result"
    }
   ],
   "source": [
    "title_container[0].text"
   ]
  },
  {
   "cell_type": "code",
   "execution_count": 32,
   "metadata": {},
   "outputs": [
    {
     "name": "stdout",
     "output_type": "stream",
     "text": [
      "brand:GIGABYTE\n",
      "product_name :GIGABYTE GeForce RTX 2070 DirectX 12 GV-N2070WF2-8GD Video Card\n",
      "brand:MSI\n",
      "product_name :MSI GeForce RTX 2060 DirectX 12 RTX 2060 VENTUS XS 6G OC Video Card\n",
      "brand:ASUS\n",
      "product_name :ASUS ROG Strix Radeon RX 5700 XT ROG-STRIX-RX5700XT-O8G-GAMING Video Card\n",
      "brand:GIGABYTE\n",
      "product_name :GIGABYTE GeForce GTX 1660 SUPER DirectX 12 GV-N166SGAMING-6GD Video Card\n",
      "brand:MSI\n",
      "product_name :MSI GeForce GTX 1660 SUPER DirectX 12 GTX 1660 SUPER VENTUS XS OC Video Card\n",
      "brand:EVGA\n",
      "product_name :EVGA GeForce RTX 2060 KO ULTRA GAMING Video Card, 06G-P4-2068-KR, 6GB GDDR6, Dual Fans, Metal Backplate\n",
      "brand:Sapphire Tech\n",
      "product_name :SAPPHIRE PULSE Radeon RX 5700 XT 100416P8GL Video Card\n",
      "brand:ASUS\n",
      "product_name :ASUS GeForce GTX 1660 Super Overclocked 6GB Dual-fan EVO Edition Graphics Card (DUAL-GTX1660S-O6G-EVO)\n",
      "brand:Sapphire Tech\n",
      "product_name :SAPPHIRE PULSE Radeon RX 5600 XT DirectX 12 11296-01-20G Video Card\n",
      "brand:XFX\n",
      "product_name :XFX Radeon RX 5600 XT RX-56XT6DF46 Video Card THICC II PRO-14GBPS 6GB BOOST UP TO 1620M D6  3xDP HDMI\n",
      "brand:ASRock\n",
      "product_name :ASRock Radeon RX 5700 XT DirectX 12 RX 5700 XT TAICHI X 8G OC+ Video Card\n",
      "brand:EVGA\n",
      "product_name :EVGA GeForce RTX 2060 XC GAMING, 6GB GDDR6, HDB Fan Graphics Card 06G-P4-2063-KR\n"
     ]
    }
   ],
   "source": [
    "for container in containers:\n",
    "    brand = container.div.div.a.img[\"title\"]\n",
    "    \n",
    "    title_container = container.findAll(\"a\",{\"class\":\"item-title\"})\n",
    "    product_name = title_container[0].text\n",
    "\n",
    "    print(\"brand:\" + brand)\n",
    "    print(\"product_name :\" + product_name)"
   ]
  },
  {
   "cell_type": "code",
   "execution_count": null,
   "metadata": {},
   "outputs": [],
   "source": []
  }
 ],
 "metadata": {
  "kernelspec": {
   "display_name": "Python 3",
   "language": "python",
   "name": "python3"
  },
  "language_info": {
   "codemirror_mode": {
    "name": "ipython",
    "version": 3
   },
   "file_extension": ".py",
   "mimetype": "text/x-python",
   "name": "python",
   "nbconvert_exporter": "python",
   "pygments_lexer": "ipython3",
   "version": "3.7.6"
  }
 },
 "nbformat": 4,
 "nbformat_minor": 4
}
